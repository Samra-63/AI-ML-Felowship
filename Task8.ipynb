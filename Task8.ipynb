{
  "nbformat": 4,
  "nbformat_minor": 0,
  "metadata": {
    "colab": {
      "provenance": [],
      "authorship_tag": "ABX9TyOmOnSTU3L5aykNOQGLahTu",
      "include_colab_link": true
    },
    "kernelspec": {
      "name": "python3",
      "display_name": "Python 3"
    },
    "language_info": {
      "name": "python"
    }
  },
  "cells": [
    {
      "cell_type": "markdown",
      "metadata": {
        "id": "view-in-github",
        "colab_type": "text"
      },
      "source": [
        "<a href=\"https://colab.research.google.com/github/Samra-63/AI-ML-Felowship/blob/main/Task8.ipynb\" target=\"_parent\"><img src=\"https://colab.research.google.com/assets/colab-badge.svg\" alt=\"Open In Colab\"/></a>"
      ]
    },
    {
      "cell_type": "markdown",
      "source": [
        "\n",
        "#  Iterators & Generators in Python\n",
        "\n",
        "This notebook is part of my Python learning practice. In this task, I explored how iterators and generators work in Python by writing my own examples and testing them.\n",
        "\n",
        "I followed a few helpful tutorials from:\n",
        "- Real Python  \n",
        "- DataCamp  \n",
        "(Links were shared in the assignment.)\n",
        "\n",
        "Instead of just reading, I tried to implement the concepts myself so I can understand them better. I've added small comments and examples to explain what each part of the code is doing.\n"
      ],
      "metadata": {
        "id": "mZSGN9005faM"
      }
    },
    {
      "cell_type": "code",
      "execution_count": null,
      "metadata": {
        "colab": {
          "base_uri": "https://localhost:8080/"
        },
        "id": "8OeSfCXr5Q-7",
        "outputId": "4b93f9d2-d8d6-451c-f236-72fe28b41f7e"
      },
      "outputs": [
        {
          "output_type": "stream",
          "name": "stdout",
          "text": [
            "apple\n",
            "banana\n",
            "cherry\n"
          ]
        }
      ],
      "source": [
        "# Demonstrating how to manually iterate through a list using iter() and next()\n",
        "fruits = ['Apple', 'Banana', 'Cherry']\n",
        "fruit_iterator = iter(fruits)\n",
        "print(next(fruit_iterator))\n",
        "print(next(fruit_iterator))\n",
        "print(next(fruit_iterator))"
      ]
    },
    {
      "cell_type": "code",
      "source": [
        "class Countdown:\n",
        "    \"\"\"\n",
        "    Custom iterator that counts down from a given number to 1.\n",
        "    \"\"\"\n",
        "    def __init__(self, start):\n",
        "        self.current = start\n",
        "    def __iter__(self):\n",
        "        return self\n",
        "    def __next__(self):\n",
        "        if self.current <= 0:\n",
        "            raise StopIteration\n",
        "        value = self.current\n",
        "        self.current -= 1\n",
        "        return value\n",
        "for number in Countdown(5):\n",
        "    print(number)\n"
      ],
      "metadata": {
        "colab": {
          "base_uri": "https://localhost:8080/"
        },
        "id": "aLmiXpKb5-Z6",
        "outputId": "8c267cbe-2a7d-4b14-a026-4cc9d681479b"
      },
      "execution_count": null,
      "outputs": [
        {
          "output_type": "stream",
          "name": "stdout",
          "text": [
            "5\n",
            "4\n",
            "3\n",
            "2\n",
            "1\n"
          ]
        }
      ]
    },
    {
      "cell_type": "code",
      "source": [
        "def generate_even_numbers(limit):\n",
        "    \"\"\"\n",
        "    Generator function that yields even numbers up to a given limit.\n",
        "    \"\"\"\n",
        "    for num in range(limit):\n",
        "        if num % 2 == 0:\n",
        "            yield num\n",
        "for even in generate_even_numbers(10):\n",
        "    print(even)\n"
      ],
      "metadata": {
        "colab": {
          "base_uri": "https://localhost:8080/"
        },
        "id": "8gcP3tjh6RTC",
        "outputId": "563eeaaa-16d8-45ce-acde-ad67ed8112f2"
      },
      "execution_count": null,
      "outputs": [
        {
          "output_type": "stream",
          "name": "stdout",
          "text": [
            "0\n",
            "2\n",
            "4\n",
            "6\n",
            "8\n"
          ]
        }
      ]
    },
    {
      "cell_type": "code",
      "source": [
        "squares = (x ** 2 for x in range(5))\n",
        "for square in squares:\n",
        "    print(square)"
      ],
      "metadata": {
        "colab": {
          "base_uri": "https://localhost:8080/"
        },
        "id": "kgFCKB_Z6ZHH",
        "outputId": "9525eb6b-7f28-449f-9125-edaaa01c5d8e"
      },
      "execution_count": null,
      "outputs": [
        {
          "output_type": "stream",
          "name": "stdout",
          "text": [
            "0\n",
            "1\n",
            "4\n",
            "9\n",
            "16\n"
          ]
        }
      ]
    },
    {
      "cell_type": "code",
      "source": [
        "def read_clean_lines(lines):\n",
        "    \"\"\"\n",
        "    Simulates reading lines from a file, stripping extra whitespace.\n",
        "    \"\"\"\n",
        "    for line in lines:\n",
        "        yield line.strip()\n",
        "sample_data = [\n",
        "    \"   Log entry 1: success\\n\",\n",
        "    \"Log entry 2: failed  \",\n",
        "    \"  Log entry 3: timeout\\n\"\n",
        "]\n",
        "for line in read_clean_lines(sample_data):\n",
        "    print(f\"Cleaned Line: '{line}'\")"
      ],
      "metadata": {
        "colab": {
          "base_uri": "https://localhost:8080/"
        },
        "id": "Nr9nWzoM6dUh",
        "outputId": "ac946f9f-0454-4091-fa9d-b0aef5a54073"
      },
      "execution_count": 1,
      "outputs": [
        {
          "output_type": "stream",
          "name": "stdout",
          "text": [
            "Cleaned Line: 'Log entry 1: success'\n",
            "Cleaned Line: 'Log entry 2: failed'\n",
            "Cleaned Line: 'Log entry 3: timeout'\n"
          ]
        }
      ]
    },
    {
      "cell_type": "code",
      "source": [
        " def infinite_counter(start=0):\n",
        "    \"\"\"\n",
        "    Infinite generator that yields increasing integers starting from 'start'.\n",
        "    \"\"\"\n",
        "    while True:\n",
        "        yield start\n",
        "        start += 1\n",
        "for count in infinite_counter():\n",
        "    print(count)\n",
        "    if count >= 5:\n",
        "        break\n"
      ],
      "metadata": {
        "colab": {
          "base_uri": "https://localhost:8080/"
        },
        "id": "7Lqccyjs6gJT",
        "outputId": "851dcc03-648f-4fb0-e306-954710142e7f"
      },
      "execution_count": 4,
      "outputs": [
        {
          "output_type": "stream",
          "name": "stdout",
          "text": [
            "0\n",
            "1\n",
            "2\n",
            "3\n",
            "4\n",
            "5\n"
          ]
        }
      ]
    },
    {
      "cell_type": "markdown",
      "source": [
        "##   **What I Learned**🦾\n",
        "\n",
        "In this task, I practiced how iterators and generators work in Python.\n",
        "\n",
        "- I learned that **iterators** are objects we can loop through using `next()`, and we can also create our own by defining special methods.\n",
        "- **Generators** are easier and cleaner when we just want to create sequences — especially with `yield`.\n",
        "- I also tried **generator expressions**, which are short and memory-friendly.\n",
        "- One useful thing I saw was how generators can help in real-life situations, like reading file lines one by one or making infinite number streams.\n",
        "\n",
        "Overall, this task helped me understand these concepts better by actually writing the code myself and testing how things behave.\n"
      ],
      "metadata": {
        "id": "V1MvSc696q9U"
      }
    }
  ]
}