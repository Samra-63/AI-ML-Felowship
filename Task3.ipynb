{
  "nbformat": 4,
  "nbformat_minor": 0,
  "metadata": {
    "colab": {
      "provenance": []
    },
    "kernelspec": {
      "name": "python3",
      "display_name": "Python 3"
    },
    "language_info": {
      "name": "python"
    }
  },
  "cells": [
    {
      "cell_type": "markdown",
      "source": [
        "In this task, I have implemented basic machine learning's following concepts....\n",
        "\n",
        "- **Mean Squared Error (MSE):** Calculates the average of squared differences between actual and predicted values.\n",
        "- **Root Mean Squared Error (RMSE):** Computes the square root of MSE to measure prediction accuracy.\n",
        "- **Cosine Similarity:** Measures the similarity between two vectors based on their dot product and magnitudes.\n",
        "- **Simple Linear Regression:** Determines the best-fit line by calculating the slope and intercept using basic arithmetic operations.\n",
        "- **Softmax Function:** Converts a list of numbers into probabilities, useful in classification problems.\n",
        "\n",
        "I think my code is beginner-friendly, with clear explanations and simple loops to perform calculations step by step.It is easy to understand and I tried my best to don't use any built-in functions or external libraries.\n"
      ],
      "metadata": {
        "id": "6a9DdvsqamAZ"
      }
    },
    {
      "cell_type": "code",
      "execution_count": 2,
      "metadata": {
        "colab": {
          "base_uri": "https://localhost:8080/"
        },
        "id": "bTD3khMpS67I",
        "outputId": "afb9668d-2345-4bdd-9af6-4105143815c8"
      },
      "outputs": [
        {
          "output_type": "stream",
          "name": "stdout",
          "text": [
            "MSE: 0.375\n",
            "RMSE: 0.6123724356957945\n",
            "Cosine Similarity: 0.9746318461970762\n",
            "Linear Regression - Slope: 1.5 Intercept: 0.3\n",
            "Softmax Output: [0.6589717769529818, 0.24244730572221554, 0.09858091732480265]\n"
          ]
        }
      ],
      "source": [
        "\n",
        "#Mean Squared Error (MSE)\n",
        "def mean_squared_error(y_true, y_pred):\n",
        "    error_sum = 0\n",
        "    for i in range(len(y_true)):\n",
        "        error = y_true[i] - y_pred[i]\n",
        "        error_sum += error * error\n",
        "    return error_sum / len(y_true)\n",
        "#  Root Mean Squared Error (RMSE)\n",
        "def root_mean_squared_error(y_true, y_pred):\n",
        "    mse = mean_squared_error(y_true, y_pred)\n",
        "    return mse ** 0.5\n",
        "#Cosine Similarity\n",
        "def cosine_similarity(vec1, vec2):\n",
        "    dot_product = 0\n",
        "    sum_vec1 = 0\n",
        "    sum_vec2 = 0\n",
        "    for i in range(len(vec1)):\n",
        "        dot_product += vec1[i] * vec2[i]\n",
        "        sum_vec1 += vec1[i] ** 2\n",
        "        sum_vec2 += vec2[i] ** 2\n",
        "    magnitude_vec1 = sum_vec1 ** 0.5\n",
        "    magnitude_vec2 = sum_vec2 ** 0.5\n",
        "    return dot_product / (magnitude_vec1 * magnitude_vec2)\n",
        "# Simple Linear Regression\n",
        "def simple_linear_regression(x, y):\n",
        "    n = len(x)\n",
        "    sum_x = sum(x)\n",
        "    sum_y = sum(y)\n",
        "    sum_xy = 0\n",
        "    sum_x_squared = 0\n",
        "    for i in range(n):\n",
        "        sum_xy += x[i] * y[i]\n",
        "        sum_x_squared += x[i] ** 2\n",
        "    m = (n * sum_xy - sum_x * sum_y) / (n * sum_x_squared - sum_x ** 2)\n",
        "    b = (sum_y - m * sum_x) / n\n",
        "    return m, b\n",
        "\n",
        "#  Softmax\n",
        "def softmax(values):\n",
        "    exp_values = []\n",
        "    sum_exp = 0\n",
        "\n",
        "    for v in values:\n",
        "        exp_val = 2.718 ** v\n",
        "        exp_values.append(exp_val)\n",
        "        sum_exp += exp_val\n",
        "\n",
        "    return [ev / sum_exp for ev in exp_values]\n",
        "\n",
        "#Using the Functions\n",
        "y_actual = [3, -0.5, 2, 7]\n",
        "y_predicted = [2.5, 0.0, 2, 8]\n",
        "print(\"MSE:\", mean_squared_error(y_actual, y_predicted))\n",
        "print(\"RMSE:\", root_mean_squared_error(y_actual, y_predicted))\n",
        "\n",
        "vector1 = [1, 2, 3]\n",
        "vector2 = [4, 5, 6]\n",
        "print(\"Cosine Similarity:\", cosine_similarity(vector1, vector2))\n",
        "\n",
        "x_values = [1, 2, 3, 4, 5]\n",
        "y_values = [2, 3, 5, 6, 8]\n",
        "m, b = simple_linear_regression(x_values, y_values)\n",
        "print(\"Linear Regression - Slope:\", m, \"Intercept:\", b)\n",
        "\n",
        "softmax_values = softmax([2.0, 1.0, 0.1])\n",
        "print(\"Softmax Output:\", softmax_values)\n",
        "\n"
      ]
    }
  ]
}