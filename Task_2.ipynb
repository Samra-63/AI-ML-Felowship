{
  "nbformat": 4,
  "nbformat_minor": 0,
  "metadata": {
    "colab": {
      "provenance": []
    },
    "kernelspec": {
      "name": "python3",
      "display_name": "Python 3"
    },
    "language_info": {
      "name": "python"
    }
  },
  "cells": [
    {
      "cell_type": "code",
      "source": [
        "def mean(numbers):\n",
        "    return sum(numbers) / len(numbers)\n",
        "\n",
        "def median(numbers):\n",
        "    numbers.sort()\n",
        "    n = len(numbers)\n",
        "    mid = n // 2\n",
        "    return (numbers[mid - 1] + numbers[mid]) / 2 if n % 2 == 0 else numbers[mid]\n",
        "\n",
        "def mode(numbers):\n",
        "    freq = {num: numbers.count(num) for num in numbers}\n",
        "    max_freq = max(freq.values())\n",
        "    return [num for num, count in freq.items() if count == max_freq][0]\n",
        "\n",
        "def variance(numbers):\n",
        "    mu = mean(numbers)\n",
        "    return sum((x - mu) ** 2 for x in numbers) / len(numbers)\n",
        "\n",
        "def standard_deviation(numbers):\n",
        "    return variance(numbers) ** 0.5\n",
        "\n",
        "def euclidean_distance(a, b):\n",
        "    if isinstance(a, (int, float)) and isinstance(b, (int, float)):\n",
        "        return abs(a - b)\n",
        "    return sum((x - y) ** 2 for x, y in zip(a, b)) ** 0.5\n",
        "\n",
        "def sigmoid(x):\n",
        "    return 1 / (1 + (2.71828 ** -x))\n",
        "\n",
        "numbers = [4, 1, 7, 2, 2, 9, 10, 2]\n",
        "print(\"Mean:\", mean(numbers))\n",
        "print(\"Median:\", median(numbers))\n",
        "print(\"Mode:\", mode(numbers))\n",
        "print(\"Variance:\", variance(numbers))\n",
        "print(\"Standard Deviation:\", standard_deviation(numbers))\n",
        "print(\"Euclidean Distance (3, 7):\", euclidean_distance(3, 7))\n",
        "print(\"Euclidean Distance ([1, 2, 3], [4, 5, 6]):\", euclidean_distance([1, 2, 3], [4, 5, 6]))\n",
        "print(\"Sigmoid(0):\", sigmoid(0))\n",
        "print(\"Sigmoid(1):\", sigmoid(1))\n"
      ],
      "metadata": {
        "id": "Kvr6o8J6_2iN",
        "colab": {
          "base_uri": "https://localhost:8080/"
        },
        "outputId": "9b4b58ea-9bb4-4c82-e3ec-da6605b3a3ac"
      },
      "execution_count": null,
      "outputs": [
        {
          "output_type": "stream",
          "name": "stdout",
          "text": [
            "Mean: 4.625\n",
            "Median: 3.0\n",
            "Mode: 2\n",
            "Variance: 10.984375\n",
            "Standard Deviation: 3.314268395890713\n",
            "Euclidean Distance (3, 7): 4\n",
            "Euclidean Distance ([1, 2, 3], [4, 5, 6]): 5.196152422706632\n",
            "Sigmoid(0): 0.5\n",
            "Sigmoid(1): 0.731058446378433\n"
          ]
        }
      ]
    },
    {
      "cell_type": "markdown",
      "source": [
        "I added different functions in this code to perform basic math operations used in machine learning:  \n",
        "\n",
        "- **mean()**: I added this function to calculate the average of a list of numbers.  \n",
        "- **median()**: This function helps to find the middle value when the numbers are sorted.  \n",
        "- **mode()**: I included this to find the most frequently occurring number in the list.  \n",
        "- **variance()**: This function measures how far the numbers are spread out from the average.  \n",
        "- **standard_deviation()**: I added this to find the square root of variance, which tells how much numbers vary.  \n",
        "- **euclidean_distance()**: This function calculates the straight-line distance between two values or lists.  \n",
        "- **sigmoid()**: I added this to apply the sigmoid function, which is useful in machine learning to map values between 0 and 1.  \n",
        "\n",
        "At the end, I wrote test cases to check if all functions work correctly by printing their results.\n"
      ],
      "metadata": {
        "id": "zKNv9IfEB649"
      }
    }
  ]
}